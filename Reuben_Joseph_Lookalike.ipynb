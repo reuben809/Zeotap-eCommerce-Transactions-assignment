{
 "cells": [
  {
   "cell_type": "code",
   "execution_count": 1,
   "id": "959ec93b-ce80-49e1-b181-2373f0f515f2",
   "metadata": {},
   "outputs": [],
   "source": [
    "import pandas as pd\n",
    "from sklearn.preprocessing import StandardScaler\n",
    "from sklearn.metrics.pairwise import cosine_similarity\n",
    "from collections import defaultdict"
   ]
  },
  {
   "cell_type": "code",
   "execution_count": 2,
   "id": "c7c58045-34c9-4c07-85c7-c3ca5dbd6103",
   "metadata": {},
   "outputs": [],
   "source": [
    "# Load the datasets\n",
    "customers = pd.read_csv('Customers.csv')\n",
    "products = pd.read_csv('Products.csv')\n",
    "transactions = pd.read_csv('Transactions.csv')"
   ]
  },
  {
   "cell_type": "code",
   "execution_count": 3,
   "id": "b9a82200-5e43-4d7f-b679-dd69516a0c7c",
   "metadata": {},
   "outputs": [],
   "source": [
    "# Merge the data to associate transactions with customer and product information\n",
    "merged_data = pd.merge(transactions, customers, on='CustomerID', how='left')\n",
    "merged_data = pd.merge(merged_data, products, on='ProductID', how='left')"
   ]
  },
  {
   "cell_type": "code",
   "execution_count": 4,
   "id": "a1538f32-2932-4e07-8113-0bda9a8a2ebf",
   "metadata": {},
   "outputs": [],
   "source": [
    "# Feature Engineering\n",
    "\n",
    "# 1. Create customer-level transaction features\n",
    "customer_features = merged_data.groupby('CustomerID').agg(\n",
    "    total_spent=('TotalValue', 'sum'),\n",
    "    num_transactions=('TransactionID', 'nunique'),\n",
    "    num_products_bought=('ProductID', 'nunique'),\n",
    "    avg_transaction_value=('TotalValue', 'mean')\n",
    ").reset_index()\n"
   ]
  },
  {
   "cell_type": "code",
   "execution_count": 5,
   "id": "c8cebd9e-0841-420f-94ea-4bed3e21b1bb",
   "metadata": {
    "scrolled": true
   },
   "outputs": [
    {
     "name": "stderr",
     "output_type": "stream",
     "text": [
      "/var/folders/8d/bv4wc5wd00v4w54lkxlpbrrc0000gn/T/ipykernel_5726/1136947187.py:5: SettingWithCopyWarning: \n",
      "A value is trying to be set on a copy of a slice from a DataFrame.\n",
      "Try using .loc[row_indexer,col_indexer] = value instead\n",
      "\n",
      "See the caveats in the documentation: https://pandas.pydata.org/pandas-docs/stable/user_guide/indexing.html#returning-a-view-versus-a-copy\n",
      "  customer_profile['SignupDate'] = pd.to_datetime(customer_profile['SignupDate'])\n"
     ]
    }
   ],
   "source": [
    "# 2. Add customer profile features (Region, SignupDate)\n",
    "customer_profile = customers[['CustomerID', 'Region', 'SignupDate']]\n",
    "\n",
    "# Convert SignupDate to number of days since signup\n",
    "customer_profile['SignupDate'] = pd.to_datetime(customer_profile['SignupDate'])\n",
    "customer_profile['days_since_signup'] = (pd.to_datetime('today') - customer_profile['SignupDate']).dt.days\n",
    "\n",
    "# Merge profile features with transaction features\n",
    "customer_data = pd.merge(customer_features, customer_profile, on='CustomerID', how='left')\n",
    "# 3. Normalize numerical features\n",
    "scaler = StandardScaler()\n",
    "numerical_features = ['total_spent', 'num_transactions', 'num_products_bought', 'avg_transaction_value', 'days_since_signup']\n",
    "customer_data[numerical_features] = scaler.fit_transform(customer_data[numerical_features])"
   ]
  },
  {
   "cell_type": "code",
   "execution_count": 6,
   "id": "50fe69af-76af-479a-b5a7-8f75dd149bcd",
   "metadata": {},
   "outputs": [],
   "source": [
    "# 3. Normalize numerical features\n",
    "scaler = StandardScaler()\n",
    "numerical_features = ['total_spent', 'num_transactions', 'num_products_bought', 'avg_transaction_value', 'days_since_signup']\n",
    "customer_data[numerical_features] = scaler.fit_transform(customer_data[numerical_features])"
   ]
  },
  {
   "cell_type": "code",
   "execution_count": 7,
   "id": "4dbceb77-3fa1-477e-b866-80b6b187d8d1",
   "metadata": {},
   "outputs": [],
   "source": [
    "# 4. Prepare the data for similarity calculation\n",
    "customer_data.set_index('CustomerID', inplace=True)"
   ]
  },
  {
   "cell_type": "code",
   "execution_count": 8,
   "id": "c1def3cc-aed5-4a1d-9eeb-b6ea90886597",
   "metadata": {},
   "outputs": [],
   "source": [
    "# 5. Compute cosine similarity between customers\n",
    "similarity_matrix = cosine_similarity(customer_data[numerical_features])"
   ]
  },
  {
   "cell_type": "code",
   "execution_count": 9,
   "id": "552e2cb4-46db-4f2c-b123-6cf6ec3cc651",
   "metadata": {},
   "outputs": [],
   "source": [
    "# 6. Create a dictionary to store the top 3 similar customers for each of the first 20 customers\n",
    "lookalikes = defaultdict(list)"
   ]
  },
  {
   "cell_type": "code",
   "execution_count": 10,
   "id": "ea74b509-7c31-4f42-b048-a9ca8df26d81",
   "metadata": {},
   "outputs": [],
   "source": [
    "for i in range(20):  # First 20 customers (C0001 to C0020)\n",
    "    customer_id = f'C{i+1:04}'\n",
    "    similarities = similarity_matrix[i]\n",
    "    \n",
    "    # Get the similarity scores and sort by highest similarity (excluding self)\n",
    "    similar_customers = sorted([(customer_data.index[j], similarities[j]) for j in range(len(similarities)) if customer_data.index[j] != customer_id], key=lambda x: x[1], reverse=True)\n",
    "    \n",
    "    # Select top 3 similar customers\n",
    "    lookalikes[customer_id] = [(customer, round(score, 4)) for customer, score in similar_customers[:3]]\n"
   ]
  },
  {
   "cell_type": "code",
   "execution_count": 11,
   "id": "4bd225d6-22a6-4d40-b032-36f2c94ec6e3",
   "metadata": {},
   "outputs": [
    {
     "name": "stdout",
     "output_type": "stream",
     "text": [
      "  CustomerID                                         Lookalikes\n",
      "0      C0001  [('C0152', 0.9993), ('C0160', 0.9647), ('C0134...\n",
      "1      C0002  [('C0029', 0.9957), ('C0192', 0.9803), ('C0025...\n",
      "2      C0003  [('C0036', 0.9823), ('C0177', 0.9759), ('C0144...\n",
      "3      C0004  [('C0175', 0.998), ('C0173', 0.9916), ('C0108'...\n",
      "4      C0005  [('C0073', 0.9998), ('C0159', 0.9994), ('C0112...\n",
      "Lookalike Model executed successfully. Results saved to Lookalike.csv.\n"
     ]
    }
   ],
   "source": [
    "# Convert the dictionary to the required format\n",
    "lookalike_data = [\n",
    "    {\n",
    "        'CustomerID': cust_id,\n",
    "        'Lookalikes': str(lookalikes_list)\n",
    "    }\n",
    "    for cust_id, lookalikes_list in lookalikes.items()\n",
    "]\n",
    "\n",
    "# Create a DataFrame and save to Lookalike.csv\n",
    "lookalike_df = pd.DataFrame(lookalike_data)\n",
    "lookalike_df.to_csv(\"Reuben_Joseph_Lookalike.csv\", index=False)\n",
    "\n",
    "# Show the first few rows of the lookalike data\n",
    "print(lookalike_df.head())\n",
    "\n",
    "print(\"Lookalike Model executed successfully. Results saved to Lookalike.csv.\")"
   ]
  },
  {
   "cell_type": "code",
   "execution_count": null,
   "id": "2f9b0cfe-4ccf-4678-9089-0da1068645aa",
   "metadata": {},
   "outputs": [],
   "source": []
  },
  {
   "cell_type": "code",
   "execution_count": null,
   "id": "eab99bbd-9ac6-4d57-81ff-f9511672caf9",
   "metadata": {},
   "outputs": [],
   "source": []
  }
 ],
 "metadata": {
  "kernelspec": {
   "display_name": "Python [conda env:base] *",
   "language": "python",
   "name": "conda-base-py"
  },
  "language_info": {
   "codemirror_mode": {
    "name": "ipython",
    "version": 3
   },
   "file_extension": ".py",
   "mimetype": "text/x-python",
   "name": "python",
   "nbconvert_exporter": "python",
   "pygments_lexer": "ipython3",
   "version": "3.12.7"
  }
 },
 "nbformat": 4,
 "nbformat_minor": 5
}
